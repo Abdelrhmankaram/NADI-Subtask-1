{
 "cells": [
  {
   "cell_type": "code",
   "execution_count": 3,
   "metadata": {},
   "outputs": [],
   "source": [
    "import pandas as pd\n",
    "import numpy as np\n",
    "\n",
    "import warnings\n",
    "\n",
    "from pandas.errors import SettingWithCopyWarning\n",
    "warnings.simplefilter(action='ignore', category=(SettingWithCopyWarning))"
   ]
  },
  {
   "cell_type": "code",
   "execution_count": 4,
   "metadata": {},
   "outputs": [],
   "source": [
    "data_2020 = pd.read_csv(r'DEV1\\NADI2020-TWT.tsv', sep=\"\\t\")\n",
    "data_2021 = pd.read_csv(r'DEV1\\NADI2021-TWT.tsv', sep=\"\\t\")\n",
    "data_2023 = pd.read_csv(r'DEV1\\NADI2023_TWT.tsv', sep=\"\\t\")\n",
    "data_2024_D1 = pd.read_csv(r'DEV1\\NADI2024_subtask1_dev1.tsv', sep=\"\\t\")\n",
    "data_2024_D2 = pd.read_csv(r'DEV2\\NADI2024_subtask1_dev2.tsv', sep=\"\\t\")"
   ]
  },
  {
   "cell_type": "code",
   "execution_count": 5,
   "metadata": {},
   "outputs": [
    {
     "data": {
      "text/html": [
       "<div>\n",
       "<style scoped>\n",
       "    .dataframe tbody tr th:only-of-type {\n",
       "        vertical-align: middle;\n",
       "    }\n",
       "\n",
       "    .dataframe tbody tr th {\n",
       "        vertical-align: top;\n",
       "    }\n",
       "\n",
       "    .dataframe thead th {\n",
       "        text-align: right;\n",
       "    }\n",
       "</style>\n",
       "<table border=\"1\" class=\"dataframe\">\n",
       "  <thead>\n",
       "    <tr style=\"text-align: right;\">\n",
       "      <th></th>\n",
       "      <th>#1_tweet_ID</th>\n",
       "      <th>#2_tweet_content</th>\n",
       "      <th>#3_country_label</th>\n",
       "      <th>#4_province_label</th>\n",
       "    </tr>\n",
       "  </thead>\n",
       "  <tbody>\n",
       "    <tr>\n",
       "      <th>0</th>\n",
       "      <td>TRAIN_1</td>\n",
       "      <td>الفار العور يشوف فقط كيسي ومايشوف ماتويد</td>\n",
       "      <td>Iraq</td>\n",
       "      <td>iq_Al-Anbar</td>\n",
       "    </tr>\n",
       "    <tr>\n",
       "      <th>1</th>\n",
       "      <td>TRAIN_2</td>\n",
       "      <td>ي دينيييي ربنا يستر</td>\n",
       "      <td>Egypt</td>\n",
       "      <td>eg_Alexandria</td>\n",
       "    </tr>\n",
       "    <tr>\n",
       "      <th>2</th>\n",
       "      <td>TRAIN_3</td>\n",
       "      <td>أساساً نسبكم قذر ونجس بلاش تتفاخروا بنجاستكم ي...</td>\n",
       "      <td>Iraq</td>\n",
       "      <td>iq_Maysan</td>\n",
       "    </tr>\n",
       "    <tr>\n",
       "      <th>3</th>\n",
       "      <td>TRAIN_4</td>\n",
       "      <td>ليْسَت كُل المَشَاعِرِ تَحْتَاجُ إلى حَبِيب بَ...</td>\n",
       "      <td>Morocco</td>\n",
       "      <td>ma_Oriental</td>\n",
       "    </tr>\n",
       "    <tr>\n",
       "      <th>4</th>\n",
       "      <td>TRAIN_5</td>\n",
       "      <td>لأ ني حاضرها هذي لايف</td>\n",
       "      <td>Libya</td>\n",
       "      <td>ly_Al-Jabal-al-Akhdar</td>\n",
       "    </tr>\n",
       "  </tbody>\n",
       "</table>\n",
       "</div>"
      ],
      "text/plain": [
       "  #1_tweet_ID                                   #2_tweet_content  \\\n",
       "0     TRAIN_1           الفار العور يشوف فقط كيسي ومايشوف ماتويد   \n",
       "1     TRAIN_2                                ي دينيييي ربنا يستر   \n",
       "2     TRAIN_3  أساساً نسبكم قذر ونجس بلاش تتفاخروا بنجاستكم ي...   \n",
       "3     TRAIN_4  ليْسَت كُل المَشَاعِرِ تَحْتَاجُ إلى حَبِيب بَ...   \n",
       "4     TRAIN_5                              لأ ني حاضرها هذي لايف   \n",
       "\n",
       "  #3_country_label      #4_province_label  \n",
       "0             Iraq            iq_Al-Anbar  \n",
       "1            Egypt          eg_Alexandria  \n",
       "2             Iraq              iq_Maysan  \n",
       "3          Morocco            ma_Oriental  \n",
       "4            Libya  ly_Al-Jabal-al-Akhdar  "
      ]
     },
     "execution_count": 5,
     "metadata": {},
     "output_type": "execute_result"
    }
   ],
   "source": [
    "data_2020.head()"
   ]
  },
  {
   "cell_type": "code",
   "execution_count": 6,
   "metadata": {},
   "outputs": [
    {
     "data": {
      "text/html": [
       "<div>\n",
       "<style scoped>\n",
       "    .dataframe tbody tr th:only-of-type {\n",
       "        vertical-align: middle;\n",
       "    }\n",
       "\n",
       "    .dataframe tbody tr th {\n",
       "        vertical-align: top;\n",
       "    }\n",
       "\n",
       "    .dataframe thead th {\n",
       "        text-align: right;\n",
       "    }\n",
       "</style>\n",
       "<table border=\"1\" class=\"dataframe\">\n",
       "  <thead>\n",
       "    <tr style=\"text-align: right;\">\n",
       "      <th></th>\n",
       "      <th>#1_tweet_ID</th>\n",
       "      <th>#2_tweet_content</th>\n",
       "      <th>#3_country_label</th>\n",
       "      <th>#4_province_label</th>\n",
       "    </tr>\n",
       "  </thead>\n",
       "  <tbody>\n",
       "    <tr>\n",
       "      <th>0</th>\n",
       "      <td>TRAIN_0</td>\n",
       "      <td>حاجة حلوة اكيد</td>\n",
       "      <td>Egypt</td>\n",
       "      <td>eg_Faiyum</td>\n",
       "    </tr>\n",
       "    <tr>\n",
       "      <th>1</th>\n",
       "      <td>TRAIN_1</td>\n",
       "      <td>عم بشتغلوا للشعب الاميركي اما نحن يكذبوا ويغشو...</td>\n",
       "      <td>Iraq</td>\n",
       "      <td>iq_Dihok</td>\n",
       "    </tr>\n",
       "    <tr>\n",
       "      <th>2</th>\n",
       "      <td>TRAIN_2</td>\n",
       "      <td>ابشر طال عمرك</td>\n",
       "      <td>Saudi_Arabia</td>\n",
       "      <td>sa_Ha'il</td>\n",
       "    </tr>\n",
       "    <tr>\n",
       "      <th>3</th>\n",
       "      <td>TRAIN_4</td>\n",
       "      <td>شهرين وتروح والباقي غير صيف ملينا</td>\n",
       "      <td>Algeria</td>\n",
       "      <td>dz_El-Oued</td>\n",
       "    </tr>\n",
       "    <tr>\n",
       "      <th>4</th>\n",
       "      <td>TRAIN_5</td>\n",
       "      <td>يابنتى والله ما حد متغاظ ولا مفروس منك ولا بيح...</td>\n",
       "      <td>Syria</td>\n",
       "      <td>sy_Damascus-City</td>\n",
       "    </tr>\n",
       "  </tbody>\n",
       "</table>\n",
       "</div>"
      ],
      "text/plain": [
       "  #1_tweet_ID                                   #2_tweet_content  \\\n",
       "0     TRAIN_0                                     حاجة حلوة اكيد   \n",
       "1     TRAIN_1  عم بشتغلوا للشعب الاميركي اما نحن يكذبوا ويغشو...   \n",
       "2     TRAIN_2                                      ابشر طال عمرك   \n",
       "3     TRAIN_4                  شهرين وتروح والباقي غير صيف ملينا   \n",
       "4     TRAIN_5  يابنتى والله ما حد متغاظ ولا مفروس منك ولا بيح...   \n",
       "\n",
       "  #3_country_label #4_province_label  \n",
       "0            Egypt         eg_Faiyum  \n",
       "1             Iraq          iq_Dihok  \n",
       "2     Saudi_Arabia          sa_Ha'il  \n",
       "3          Algeria        dz_El-Oued  \n",
       "4            Syria  sy_Damascus-City  "
      ]
     },
     "execution_count": 6,
     "metadata": {},
     "output_type": "execute_result"
    }
   ],
   "source": [
    "data_2021.head()"
   ]
  },
  {
   "cell_type": "code",
   "execution_count": 7,
   "metadata": {},
   "outputs": [
    {
     "data": {
      "text/html": [
       "<div>\n",
       "<style scoped>\n",
       "    .dataframe tbody tr th:only-of-type {\n",
       "        vertical-align: middle;\n",
       "    }\n",
       "\n",
       "    .dataframe tbody tr th {\n",
       "        vertical-align: top;\n",
       "    }\n",
       "\n",
       "    .dataframe thead th {\n",
       "        text-align: right;\n",
       "    }\n",
       "</style>\n",
       "<table border=\"1\" class=\"dataframe\">\n",
       "  <thead>\n",
       "    <tr style=\"text-align: right;\">\n",
       "      <th></th>\n",
       "      <th>#1_id</th>\n",
       "      <th>#2_content</th>\n",
       "      <th>#3_country_label</th>\n",
       "    </tr>\n",
       "  </thead>\n",
       "  <tbody>\n",
       "    <tr>\n",
       "      <th>0</th>\n",
       "      <td>subtask1_train_1</td>\n",
       "      <td>USER روتلج علمود جنسيه</td>\n",
       "      <td>Iraq</td>\n",
       "    </tr>\n",
       "    <tr>\n",
       "      <th>1</th>\n",
       "      <td>subtask1_train_2</td>\n",
       "      <td>النت في عمان يذكرني ببطاقه الافق مال NUM ريالا...</td>\n",
       "      <td>Oman</td>\n",
       "    </tr>\n",
       "    <tr>\n",
       "      <th>2</th>\n",
       "      <td>subtask1_train_3</td>\n",
       "      <td>USER انا كنصراوي لاالوم اخواني النصراويه بتشجي...</td>\n",
       "      <td>Saudi_Arabia</td>\n",
       "    </tr>\n",
       "    <tr>\n",
       "      <th>3</th>\n",
       "      <td>subtask1_train_4</td>\n",
       "      <td>دوله اسرائيل قائمه علي ضعفنا يوم ما نتوحد ونقو...</td>\n",
       "      <td>Palestine</td>\n",
       "    </tr>\n",
       "    <tr>\n",
       "      <th>4</th>\n",
       "      <td>subtask1_train_5</td>\n",
       "      <td>USER لو تقابلنا بعد طول الغياب ضمني ما فيني حي...</td>\n",
       "      <td>Bahrain</td>\n",
       "    </tr>\n",
       "  </tbody>\n",
       "</table>\n",
       "</div>"
      ],
      "text/plain": [
       "              #1_id                                         #2_content  \\\n",
       "0  subtask1_train_1                             USER روتلج علمود جنسيه   \n",
       "1  subtask1_train_2  النت في عمان يذكرني ببطاقه الافق مال NUM ريالا...   \n",
       "2  subtask1_train_3  USER انا كنصراوي لاالوم اخواني النصراويه بتشجي...   \n",
       "3  subtask1_train_4  دوله اسرائيل قائمه علي ضعفنا يوم ما نتوحد ونقو...   \n",
       "4  subtask1_train_5  USER لو تقابلنا بعد طول الغياب ضمني ما فيني حي...   \n",
       "\n",
       "  #3_country_label  \n",
       "0             Iraq  \n",
       "1             Oman  \n",
       "2     Saudi_Arabia  \n",
       "3        Palestine  \n",
       "4          Bahrain  "
      ]
     },
     "execution_count": 7,
     "metadata": {},
     "output_type": "execute_result"
    }
   ],
   "source": [
    "data_2023.head()"
   ]
  },
  {
   "cell_type": "code",
   "execution_count": 8,
   "metadata": {},
   "outputs": [
    {
     "data": {
      "text/plain": [
       "array(['Iraq', 'Egypt', 'Morocco', 'Libya', 'UAE', 'Saudi_Arabia',\n",
       "       'Bahrain', 'Syria', 'Lebanon', 'Oman', 'Palestine', 'Algeria',\n",
       "       'Jordan', 'Tunisia', 'Kuwait', 'Yemen', 'Sudan', 'Qatar'],\n",
       "      dtype=object)"
      ]
     },
     "execution_count": 8,
     "metadata": {},
     "output_type": "execute_result"
    }
   ],
   "source": [
    "data_2020[\"#3_country_label\"].unique()"
   ]
  },
  {
   "cell_type": "code",
   "execution_count": 9,
   "metadata": {},
   "outputs": [
    {
     "data": {
      "text/plain": [
       "array(['Egypt', 'Iraq', 'Saudi_Arabia', 'Algeria', 'Syria', 'Oman',\n",
       "       'Tunisia', 'Lebanon', 'Morocco', 'UAE', 'Kuwait', 'Libya',\n",
       "       'Bahrain', 'Qatar', 'Yemen', 'Palestine', 'Jordan', 'Sudan'],\n",
       "      dtype=object)"
      ]
     },
     "execution_count": 9,
     "metadata": {},
     "output_type": "execute_result"
    }
   ],
   "source": [
    "data_2021[\"#3_country_label\"].unique()"
   ]
  },
  {
   "cell_type": "code",
   "execution_count": 10,
   "metadata": {},
   "outputs": [
    {
     "data": {
      "text/plain": [
       "array(['Iraq', 'Oman', 'Saudi_Arabia', 'Palestine', 'Bahrain', 'Egypt',\n",
       "       'Jordan', 'Libya', 'Sudan', 'UAE', 'Algeria', 'Kuwait', 'Tunisia',\n",
       "       'Lebanon', 'Morocco', 'Yemen', 'Syria', 'Qatar'], dtype=object)"
      ]
     },
     "execution_count": 10,
     "metadata": {},
     "output_type": "execute_result"
    }
   ],
   "source": [
    "data_2023[\"#3_country_label\"].unique()"
   ]
  },
  {
   "cell_type": "code",
   "execution_count": 11,
   "metadata": {},
   "outputs": [
    {
     "data": {
      "text/plain": [
       "18"
      ]
     },
     "execution_count": 11,
     "metadata": {},
     "output_type": "execute_result"
    }
   ],
   "source": [
    "len(data_2023[\"#3_country_label\"].unique())"
   ]
  },
  {
   "cell_type": "markdown",
   "metadata": {},
   "source": [
    "Classes in **2020**, **2021** and **2023** are all the same, but in 2024 differs"
   ]
  },
  {
   "cell_type": "code",
   "execution_count": 12,
   "metadata": {},
   "outputs": [
    {
     "data": {
      "text/html": [
       "<div>\n",
       "<style scoped>\n",
       "    .dataframe tbody tr th:only-of-type {\n",
       "        vertical-align: middle;\n",
       "    }\n",
       "\n",
       "    .dataframe tbody tr th {\n",
       "        vertical-align: top;\n",
       "    }\n",
       "\n",
       "    .dataframe thead th {\n",
       "        text-align: right;\n",
       "    }\n",
       "</style>\n",
       "<table border=\"1\" class=\"dataframe\">\n",
       "  <thead>\n",
       "    <tr style=\"text-align: right;\">\n",
       "      <th></th>\n",
       "      <th>#1_id</th>\n",
       "      <th>#2_content</th>\n",
       "      <th>#3_country_label</th>\n",
       "    </tr>\n",
       "  </thead>\n",
       "  <tbody>\n",
       "    <tr>\n",
       "      <th>0</th>\n",
       "      <td>subtask1_train_1</td>\n",
       "      <td>USER روتلج علمود جنسيه</td>\n",
       "      <td>Iraq</td>\n",
       "    </tr>\n",
       "    <tr>\n",
       "      <th>1</th>\n",
       "      <td>subtask1_train_2</td>\n",
       "      <td>النت في عمان يذكرني ببطاقه الافق مال NUM ريالا...</td>\n",
       "      <td>Oman</td>\n",
       "    </tr>\n",
       "    <tr>\n",
       "      <th>2</th>\n",
       "      <td>subtask1_train_3</td>\n",
       "      <td>USER انا كنصراوي لاالوم اخواني النصراويه بتشجي...</td>\n",
       "      <td>Saudi_Arabia</td>\n",
       "    </tr>\n",
       "    <tr>\n",
       "      <th>3</th>\n",
       "      <td>subtask1_train_4</td>\n",
       "      <td>دوله اسرائيل قائمه علي ضعفنا يوم ما نتوحد ونقو...</td>\n",
       "      <td>Palestine</td>\n",
       "    </tr>\n",
       "    <tr>\n",
       "      <th>4</th>\n",
       "      <td>subtask1_train_5</td>\n",
       "      <td>USER لو تقابلنا بعد طول الغياب ضمني ما فيني حي...</td>\n",
       "      <td>Bahrain</td>\n",
       "    </tr>\n",
       "  </tbody>\n",
       "</table>\n",
       "</div>"
      ],
      "text/plain": [
       "              #1_id                                         #2_content  \\\n",
       "0  subtask1_train_1                             USER روتلج علمود جنسيه   \n",
       "1  subtask1_train_2  النت في عمان يذكرني ببطاقه الافق مال NUM ريالا...   \n",
       "2  subtask1_train_3  USER انا كنصراوي لاالوم اخواني النصراويه بتشجي...   \n",
       "3  subtask1_train_4  دوله اسرائيل قائمه علي ضعفنا يوم ما نتوحد ونقو...   \n",
       "4  subtask1_train_5  USER لو تقابلنا بعد طول الغياب ضمني ما فيني حي...   \n",
       "\n",
       "  #3_country_label  \n",
       "0             Iraq  \n",
       "1             Oman  \n",
       "2     Saudi_Arabia  \n",
       "3        Palestine  \n",
       "4          Bahrain  "
      ]
     },
     "execution_count": 12,
     "metadata": {},
     "output_type": "execute_result"
    }
   ],
   "source": [
    "data_2023.head()"
   ]
  },
  {
   "cell_type": "code",
   "execution_count": 13,
   "metadata": {},
   "outputs": [
    {
     "data": {
      "text/html": [
       "<div>\n",
       "<style scoped>\n",
       "    .dataframe tbody tr th:only-of-type {\n",
       "        vertical-align: middle;\n",
       "    }\n",
       "\n",
       "    .dataframe tbody tr th {\n",
       "        vertical-align: top;\n",
       "    }\n",
       "\n",
       "    .dataframe thead th {\n",
       "        text-align: right;\n",
       "    }\n",
       "</style>\n",
       "<table border=\"1\" class=\"dataframe\">\n",
       "  <thead>\n",
       "    <tr style=\"text-align: right;\">\n",
       "      <th></th>\n",
       "      <th>sentence</th>\n",
       "      <th>Algeria</th>\n",
       "      <th>Egypt</th>\n",
       "      <th>Sudan</th>\n",
       "      <th>Tunisia</th>\n",
       "    </tr>\n",
       "  </thead>\n",
       "  <tbody>\n",
       "    <tr>\n",
       "      <th>0</th>\n",
       "      <td>مش عارف ليه بفرح جدا لما اعرف ان حد من اصحابي ...</td>\n",
       "      <td>n</td>\n",
       "      <td>y</td>\n",
       "      <td>n</td>\n",
       "      <td>n</td>\n",
       "    </tr>\n",
       "    <tr>\n",
       "      <th>1</th>\n",
       "      <td>احمد فاروق جعفر لشيكابالا ترد تقول ايه علي تصر...</td>\n",
       "      <td>n</td>\n",
       "      <td>y</td>\n",
       "      <td>n</td>\n",
       "      <td>n</td>\n",
       "    </tr>\n",
       "    <tr>\n",
       "      <th>2</th>\n",
       "      <td>بدل ما انت طالع ونازل بالفيس تعال نگتب #يا_الل...</td>\n",
       "      <td>n</td>\n",
       "      <td>y</td>\n",
       "      <td>y</td>\n",
       "      <td>n</td>\n",
       "    </tr>\n",
       "    <tr>\n",
       "      <th>3</th>\n",
       "      <td>اللهم اهدني فيمن هديت وعافني فيمن عافيت وتولني...</td>\n",
       "      <td>y</td>\n",
       "      <td>y</td>\n",
       "      <td>y</td>\n",
       "      <td>y</td>\n",
       "    </tr>\n",
       "    <tr>\n",
       "      <th>4</th>\n",
       "      <td>اللهم انت ربي لا اله الا انت خلقتني وانا عبدك ...</td>\n",
       "      <td>y</td>\n",
       "      <td>y</td>\n",
       "      <td>y</td>\n",
       "      <td>y</td>\n",
       "    </tr>\n",
       "  </tbody>\n",
       "</table>\n",
       "</div>"
      ],
      "text/plain": [
       "                                            sentence Algeria Egypt Sudan  \\\n",
       "0  مش عارف ليه بفرح جدا لما اعرف ان حد من اصحابي ...       n     y     n   \n",
       "1  احمد فاروق جعفر لشيكابالا ترد تقول ايه علي تصر...       n     y     n   \n",
       "2  بدل ما انت طالع ونازل بالفيس تعال نگتب #يا_الل...       n     y     y   \n",
       "3  اللهم اهدني فيمن هديت وعافني فيمن عافيت وتولني...       y     y     y   \n",
       "4  اللهم انت ربي لا اله الا انت خلقتني وانا عبدك ...       y     y     y   \n",
       "\n",
       "  Tunisia  \n",
       "0       n  \n",
       "1       n  \n",
       "2       n  \n",
       "3       y  \n",
       "4       y  "
      ]
     },
     "execution_count": 13,
     "metadata": {},
     "output_type": "execute_result"
    }
   ],
   "source": [
    "data_2024_D1.head()"
   ]
  },
  {
   "cell_type": "markdown",
   "metadata": {},
   "source": [
    "Classes in **2024 D1** are `[Algeria, Egypt, Sudan, Tunisia]`"
   ]
  },
  {
   "cell_type": "code",
   "execution_count": 14,
   "metadata": {},
   "outputs": [
    {
     "data": {
      "text/html": [
       "<div>\n",
       "<style scoped>\n",
       "    .dataframe tbody tr th:only-of-type {\n",
       "        vertical-align: middle;\n",
       "    }\n",
       "\n",
       "    .dataframe tbody tr th {\n",
       "        vertical-align: top;\n",
       "    }\n",
       "\n",
       "    .dataframe thead th {\n",
       "        text-align: right;\n",
       "    }\n",
       "</style>\n",
       "<table border=\"1\" class=\"dataframe\">\n",
       "  <thead>\n",
       "    <tr style=\"text-align: right;\">\n",
       "      <th></th>\n",
       "      <th>sentence</th>\n",
       "      <th>Algeria</th>\n",
       "      <th>Egypt</th>\n",
       "      <th>Jordan</th>\n",
       "      <th>Palestine</th>\n",
       "      <th>Sudan</th>\n",
       "      <th>Syria</th>\n",
       "      <th>Tunisia</th>\n",
       "      <th>Yemen</th>\n",
       "    </tr>\n",
       "  </thead>\n",
       "  <tbody>\n",
       "    <tr>\n",
       "      <th>0</th>\n",
       "      <td>يوم ان ولد اللاش رزقه علي امه رزقي علي اللي مي...</td>\n",
       "      <td>n</td>\n",
       "      <td>n</td>\n",
       "      <td>n</td>\n",
       "      <td>n</td>\n",
       "      <td>n</td>\n",
       "      <td>n</td>\n",
       "      <td>n</td>\n",
       "      <td>n</td>\n",
       "    </tr>\n",
       "    <tr>\n",
       "      <th>1</th>\n",
       "      <td>في تونس يا انت مع الطحانه و الفساد و الخونه و ...</td>\n",
       "      <td>n</td>\n",
       "      <td>n</td>\n",
       "      <td>n</td>\n",
       "      <td>n</td>\n",
       "      <td>n</td>\n",
       "      <td>n</td>\n",
       "      <td>y</td>\n",
       "      <td>n</td>\n",
       "    </tr>\n",
       "    <tr>\n",
       "      <th>2</th>\n",
       "      <td>اللهم انت ربي لا اله الا انت خلقتني وانا عبدك ...</td>\n",
       "      <td>y</td>\n",
       "      <td>y</td>\n",
       "      <td>y</td>\n",
       "      <td>y</td>\n",
       "      <td>y</td>\n",
       "      <td>y</td>\n",
       "      <td>y</td>\n",
       "      <td>y</td>\n",
       "    </tr>\n",
       "    <tr>\n",
       "      <th>3</th>\n",
       "      <td>اربط الحزام وباتفتح قناه</td>\n",
       "      <td>n</td>\n",
       "      <td>n</td>\n",
       "      <td>n</td>\n",
       "      <td>n</td>\n",
       "      <td>n</td>\n",
       "      <td>n</td>\n",
       "      <td>n</td>\n",
       "      <td>y</td>\n",
       "    </tr>\n",
       "    <tr>\n",
       "      <th>4</th>\n",
       "      <td>بيعدي عليا بنات بحس ان مكتوب علي ضهرهم اتمني ل...</td>\n",
       "      <td>n</td>\n",
       "      <td>y</td>\n",
       "      <td>n</td>\n",
       "      <td>y</td>\n",
       "      <td>n</td>\n",
       "      <td>n</td>\n",
       "      <td>n</td>\n",
       "      <td>y</td>\n",
       "    </tr>\n",
       "  </tbody>\n",
       "</table>\n",
       "</div>"
      ],
      "text/plain": [
       "                                            sentence Algeria Egypt Jordan  \\\n",
       "0  يوم ان ولد اللاش رزقه علي امه رزقي علي اللي مي...       n     n      n   \n",
       "1  في تونس يا انت مع الطحانه و الفساد و الخونه و ...       n     n      n   \n",
       "2  اللهم انت ربي لا اله الا انت خلقتني وانا عبدك ...       y     y      y   \n",
       "3                           اربط الحزام وباتفتح قناه       n     n      n   \n",
       "4  بيعدي عليا بنات بحس ان مكتوب علي ضهرهم اتمني ل...       n     y      n   \n",
       "\n",
       "  Palestine Sudan Syria Tunisia Yemen  \n",
       "0         n     n     n       n     n  \n",
       "1         n     n     n       y     n  \n",
       "2         y     y     y       y     y  \n",
       "3         n     n     n       n     y  \n",
       "4         y     n     n       n     y  "
      ]
     },
     "execution_count": 14,
     "metadata": {},
     "output_type": "execute_result"
    }
   ],
   "source": [
    "data_2024_D2.head()"
   ]
  },
  {
   "cell_type": "markdown",
   "metadata": {},
   "source": [
    "Classes in **2024 D2** are `[Algeria, Egypt, Jordan, Palestine, Sudan, Syria, Tunisia, Yemen]`"
   ]
  },
  {
   "cell_type": "markdown",
   "metadata": {},
   "source": [
    "It's easy to integrate between 2020, 2021 and 2023 just by combining these two dataframes"
   ]
  },
  {
   "cell_type": "markdown",
   "metadata": {},
   "source": [
    "but there's a little problem, 2023 data doesn't contain `Province` column"
   ]
  },
  {
   "cell_type": "markdown",
   "metadata": {},
   "source": [
    "## 2020"
   ]
  },
  {
   "cell_type": "markdown",
   "metadata": {},
   "source": [
    "### Rename each column in the data"
   ]
  },
  {
   "cell_type": "code",
   "execution_count": 15,
   "metadata": {},
   "outputs": [
    {
     "data": {
      "text/html": [
       "<div>\n",
       "<style scoped>\n",
       "    .dataframe tbody tr th:only-of-type {\n",
       "        vertical-align: middle;\n",
       "    }\n",
       "\n",
       "    .dataframe tbody tr th {\n",
       "        vertical-align: top;\n",
       "    }\n",
       "\n",
       "    .dataframe thead th {\n",
       "        text-align: right;\n",
       "    }\n",
       "</style>\n",
       "<table border=\"1\" class=\"dataframe\">\n",
       "  <thead>\n",
       "    <tr style=\"text-align: right;\">\n",
       "      <th></th>\n",
       "      <th>ID</th>\n",
       "      <th>Text</th>\n",
       "      <th>Country</th>\n",
       "      <th>Province</th>\n",
       "    </tr>\n",
       "  </thead>\n",
       "  <tbody>\n",
       "    <tr>\n",
       "      <th>0</th>\n",
       "      <td>TRAIN_1</td>\n",
       "      <td>الفار العور يشوف فقط كيسي ومايشوف ماتويد</td>\n",
       "      <td>Iraq</td>\n",
       "      <td>iq_Al-Anbar</td>\n",
       "    </tr>\n",
       "    <tr>\n",
       "      <th>1</th>\n",
       "      <td>TRAIN_2</td>\n",
       "      <td>ي دينيييي ربنا يستر</td>\n",
       "      <td>Egypt</td>\n",
       "      <td>eg_Alexandria</td>\n",
       "    </tr>\n",
       "    <tr>\n",
       "      <th>2</th>\n",
       "      <td>TRAIN_3</td>\n",
       "      <td>أساساً نسبكم قذر ونجس بلاش تتفاخروا بنجاستكم ي...</td>\n",
       "      <td>Iraq</td>\n",
       "      <td>iq_Maysan</td>\n",
       "    </tr>\n",
       "    <tr>\n",
       "      <th>3</th>\n",
       "      <td>TRAIN_4</td>\n",
       "      <td>ليْسَت كُل المَشَاعِرِ تَحْتَاجُ إلى حَبِيب بَ...</td>\n",
       "      <td>Morocco</td>\n",
       "      <td>ma_Oriental</td>\n",
       "    </tr>\n",
       "    <tr>\n",
       "      <th>4</th>\n",
       "      <td>TRAIN_5</td>\n",
       "      <td>لأ ني حاضرها هذي لايف</td>\n",
       "      <td>Libya</td>\n",
       "      <td>ly_Al-Jabal-al-Akhdar</td>\n",
       "    </tr>\n",
       "  </tbody>\n",
       "</table>\n",
       "</div>"
      ],
      "text/plain": [
       "        ID                                               Text  Country  \\\n",
       "0  TRAIN_1           الفار العور يشوف فقط كيسي ومايشوف ماتويد     Iraq   \n",
       "1  TRAIN_2                                ي دينيييي ربنا يستر    Egypt   \n",
       "2  TRAIN_3  أساساً نسبكم قذر ونجس بلاش تتفاخروا بنجاستكم ي...     Iraq   \n",
       "3  TRAIN_4  ليْسَت كُل المَشَاعِرِ تَحْتَاجُ إلى حَبِيب بَ...  Morocco   \n",
       "4  TRAIN_5                              لأ ني حاضرها هذي لايف    Libya   \n",
       "\n",
       "                Province  \n",
       "0            iq_Al-Anbar  \n",
       "1          eg_Alexandria  \n",
       "2              iq_Maysan  \n",
       "3            ma_Oriental  \n",
       "4  ly_Al-Jabal-al-Akhdar  "
      ]
     },
     "execution_count": 15,
     "metadata": {},
     "output_type": "execute_result"
    }
   ],
   "source": [
    "data_2020.columns = [\"ID\", \"Text\", \"Country\", \"Province\"]\n",
    "\n",
    "data_2020.head()"
   ]
  },
  {
   "cell_type": "code",
   "execution_count": 16,
   "metadata": {},
   "outputs": [
    {
     "data": {
      "text/plain": [
       "'ليْسَت كُل المَشَاعِرِ تَحْتَاجُ إلى حَبِيب بَعْض المَشَاعر تَحْتَاج إلى رَفِيق لا يَخْذل صَدِيق لا يُوجع رُوُح تَظَل مَعَكَ ولا تَمَل مِنك'"
      ]
     },
     "execution_count": 16,
     "metadata": {},
     "output_type": "execute_result"
    }
   ],
   "source": [
    "data_2020.iloc[3][\"Text\"]"
   ]
  },
  {
   "cell_type": "code",
   "execution_count": 17,
   "metadata": {},
   "outputs": [
    {
     "data": {
      "text/plain": [
       "ID          0\n",
       "Text        0\n",
       "Country     0\n",
       "Province    0\n",
       "dtype: int64"
      ]
     },
     "execution_count": 17,
     "metadata": {},
     "output_type": "execute_result"
    }
   ],
   "source": [
    "data_2020.isna().sum()"
   ]
  },
  {
   "cell_type": "markdown",
   "metadata": {},
   "source": [
    "no null values"
   ]
  },
  {
   "cell_type": "code",
   "execution_count": 18,
   "metadata": {},
   "outputs": [
    {
     "data": {
      "text/plain": [
       "0"
      ]
     },
     "execution_count": 18,
     "metadata": {},
     "output_type": "execute_result"
    }
   ],
   "source": [
    "data_2020.duplicated().sum()"
   ]
  },
  {
   "cell_type": "markdown",
   "metadata": {},
   "source": [
    "no duplicated records"
   ]
  },
  {
   "cell_type": "markdown",
   "metadata": {},
   "source": [
    "let's take a look on the `ID` column\n",
    "\n",
    "so every record is named after eatiher train or test, but is there any test values?\n",
    "\n",
    "we can use `REGEX` to determine this"
   ]
  },
  {
   "cell_type": "code",
   "execution_count": 19,
   "metadata": {},
   "outputs": [],
   "source": [
    "import regex as re\n",
    "\n",
    "exp = r\"TEST_[\\d]+\""
   ]
  },
  {
   "cell_type": "code",
   "execution_count": 20,
   "metadata": {},
   "outputs": [
    {
     "data": {
      "text/plain": [
       "[]"
      ]
     },
     "execution_count": 20,
     "metadata": {},
     "output_type": "execute_result"
    }
   ],
   "source": [
    "lst = [i for i in data_2020[\"ID\"] if re.match(exp, i)]\n",
    "\n",
    "lst"
   ]
  },
  {
   "cell_type": "markdown",
   "metadata": {},
   "source": [
    "there's no test labels\n",
    "\n",
    "so there's no need for `ID` column"
   ]
  },
  {
   "cell_type": "code",
   "execution_count": 21,
   "metadata": {},
   "outputs": [
    {
     "data": {
      "text/html": [
       "<div>\n",
       "<style scoped>\n",
       "    .dataframe tbody tr th:only-of-type {\n",
       "        vertical-align: middle;\n",
       "    }\n",
       "\n",
       "    .dataframe tbody tr th {\n",
       "        vertical-align: top;\n",
       "    }\n",
       "\n",
       "    .dataframe thead th {\n",
       "        text-align: right;\n",
       "    }\n",
       "</style>\n",
       "<table border=\"1\" class=\"dataframe\">\n",
       "  <thead>\n",
       "    <tr style=\"text-align: right;\">\n",
       "      <th></th>\n",
       "      <th>Text</th>\n",
       "      <th>Country</th>\n",
       "      <th>Province</th>\n",
       "    </tr>\n",
       "  </thead>\n",
       "  <tbody>\n",
       "    <tr>\n",
       "      <th>0</th>\n",
       "      <td>الفار العور يشوف فقط كيسي ومايشوف ماتويد</td>\n",
       "      <td>Iraq</td>\n",
       "      <td>iq_Al-Anbar</td>\n",
       "    </tr>\n",
       "    <tr>\n",
       "      <th>1</th>\n",
       "      <td>ي دينيييي ربنا يستر</td>\n",
       "      <td>Egypt</td>\n",
       "      <td>eg_Alexandria</td>\n",
       "    </tr>\n",
       "    <tr>\n",
       "      <th>2</th>\n",
       "      <td>أساساً نسبكم قذر ونجس بلاش تتفاخروا بنجاستكم ي...</td>\n",
       "      <td>Iraq</td>\n",
       "      <td>iq_Maysan</td>\n",
       "    </tr>\n",
       "    <tr>\n",
       "      <th>3</th>\n",
       "      <td>ليْسَت كُل المَشَاعِرِ تَحْتَاجُ إلى حَبِيب بَ...</td>\n",
       "      <td>Morocco</td>\n",
       "      <td>ma_Oriental</td>\n",
       "    </tr>\n",
       "    <tr>\n",
       "      <th>4</th>\n",
       "      <td>لأ ني حاضرها هذي لايف</td>\n",
       "      <td>Libya</td>\n",
       "      <td>ly_Al-Jabal-al-Akhdar</td>\n",
       "    </tr>\n",
       "    <tr>\n",
       "      <th>...</th>\n",
       "      <td>...</td>\n",
       "      <td>...</td>\n",
       "      <td>...</td>\n",
       "    </tr>\n",
       "    <tr>\n",
       "      <th>20365</th>\n",
       "      <td>تركيبه مختلفه ازاي علشان محتوي الرساله اتبعتي ...</td>\n",
       "      <td>Egypt</td>\n",
       "      <td>eg_Kafr-el-Sheikh</td>\n",
       "    </tr>\n",
       "    <tr>\n",
       "      <th>20366</th>\n",
       "      <td>اهي المنوفيه دي بلد وسخه محدش بيقف جمب حد وله ...</td>\n",
       "      <td>Egypt</td>\n",
       "      <td>eg_Monufia</td>\n",
       "    </tr>\n",
       "    <tr>\n",
       "      <th>20367</th>\n",
       "      <td>مو مسكينة بس شكلك انت مسكين وإذا ترديني ارد عل...</td>\n",
       "      <td>Iraq</td>\n",
       "      <td>iq_Al-Muthannia</td>\n",
       "    </tr>\n",
       "    <tr>\n",
       "      <th>20368</th>\n",
       "      <td>الحاسة السادسة عندنا فعالة في أغلب الاحيان</td>\n",
       "      <td>Morocco</td>\n",
       "      <td>ma_Oriental</td>\n",
       "    </tr>\n",
       "    <tr>\n",
       "      <th>20369</th>\n",
       "      <td>@Rasha_AlSadat ماااااساتى مع بنتى للاسف</td>\n",
       "      <td>Egypt</td>\n",
       "      <td>eg_Red-Sea</td>\n",
       "    </tr>\n",
       "  </tbody>\n",
       "</table>\n",
       "<p>20370 rows × 3 columns</p>\n",
       "</div>"
      ],
      "text/plain": [
       "                                                    Text  Country  \\\n",
       "0               الفار العور يشوف فقط كيسي ومايشوف ماتويد     Iraq   \n",
       "1                                    ي دينيييي ربنا يستر    Egypt   \n",
       "2      أساساً نسبكم قذر ونجس بلاش تتفاخروا بنجاستكم ي...     Iraq   \n",
       "3      ليْسَت كُل المَشَاعِرِ تَحْتَاجُ إلى حَبِيب بَ...  Morocco   \n",
       "4                                  لأ ني حاضرها هذي لايف    Libya   \n",
       "...                                                  ...      ...   \n",
       "20365  تركيبه مختلفه ازاي علشان محتوي الرساله اتبعتي ...    Egypt   \n",
       "20366  اهي المنوفيه دي بلد وسخه محدش بيقف جمب حد وله ...    Egypt   \n",
       "20367  مو مسكينة بس شكلك انت مسكين وإذا ترديني ارد عل...     Iraq   \n",
       "20368         الحاسة السادسة عندنا فعالة في أغلب الاحيان  Morocco   \n",
       "20369            @Rasha_AlSadat ماااااساتى مع بنتى للاسف    Egypt   \n",
       "\n",
       "                    Province  \n",
       "0                iq_Al-Anbar  \n",
       "1              eg_Alexandria  \n",
       "2                  iq_Maysan  \n",
       "3                ma_Oriental  \n",
       "4      ly_Al-Jabal-al-Akhdar  \n",
       "...                      ...  \n",
       "20365      eg_Kafr-el-Sheikh  \n",
       "20366             eg_Monufia  \n",
       "20367        iq_Al-Muthannia  \n",
       "20368            ma_Oriental  \n",
       "20369             eg_Red-Sea  \n",
       "\n",
       "[20370 rows x 3 columns]"
      ]
     },
     "execution_count": 21,
     "metadata": {},
     "output_type": "execute_result"
    }
   ],
   "source": [
    "data_2020 = data_2020.drop(columns=\"ID\")\n",
    "\n",
    "data_2020"
   ]
  },
  {
   "cell_type": "markdown",
   "metadata": {},
   "source": [
    "country code that's embbeded with the `Province` seems to have no use here since we have `Country` column"
   ]
  },
  {
   "cell_type": "code",
   "execution_count": 22,
   "metadata": {},
   "outputs": [],
   "source": [
    "province = pd.Series([i[1] for i in data_2020[\"Province\"].str.split('_')])\n",
    "\n",
    "data_2020[\"Province\"] = province\n"
   ]
  },
  {
   "cell_type": "code",
   "execution_count": 23,
   "metadata": {},
   "outputs": [
    {
     "data": {
      "text/html": [
       "<div>\n",
       "<style scoped>\n",
       "    .dataframe tbody tr th:only-of-type {\n",
       "        vertical-align: middle;\n",
       "    }\n",
       "\n",
       "    .dataframe tbody tr th {\n",
       "        vertical-align: top;\n",
       "    }\n",
       "\n",
       "    .dataframe thead th {\n",
       "        text-align: right;\n",
       "    }\n",
       "</style>\n",
       "<table border=\"1\" class=\"dataframe\">\n",
       "  <thead>\n",
       "    <tr style=\"text-align: right;\">\n",
       "      <th></th>\n",
       "      <th>Text</th>\n",
       "      <th>Country</th>\n",
       "      <th>Province</th>\n",
       "    </tr>\n",
       "  </thead>\n",
       "  <tbody>\n",
       "    <tr>\n",
       "      <th>0</th>\n",
       "      <td>الفار العور يشوف فقط كيسي ومايشوف ماتويد</td>\n",
       "      <td>Iraq</td>\n",
       "      <td>Al-Anbar</td>\n",
       "    </tr>\n",
       "    <tr>\n",
       "      <th>1</th>\n",
       "      <td>ي دينيييي ربنا يستر</td>\n",
       "      <td>Egypt</td>\n",
       "      <td>Alexandria</td>\n",
       "    </tr>\n",
       "    <tr>\n",
       "      <th>2</th>\n",
       "      <td>أساساً نسبكم قذر ونجس بلاش تتفاخروا بنجاستكم ي...</td>\n",
       "      <td>Iraq</td>\n",
       "      <td>Maysan</td>\n",
       "    </tr>\n",
       "    <tr>\n",
       "      <th>3</th>\n",
       "      <td>ليْسَت كُل المَشَاعِرِ تَحْتَاجُ إلى حَبِيب بَ...</td>\n",
       "      <td>Morocco</td>\n",
       "      <td>Oriental</td>\n",
       "    </tr>\n",
       "    <tr>\n",
       "      <th>4</th>\n",
       "      <td>لأ ني حاضرها هذي لايف</td>\n",
       "      <td>Libya</td>\n",
       "      <td>Al-Jabal-al-Akhdar</td>\n",
       "    </tr>\n",
       "  </tbody>\n",
       "</table>\n",
       "</div>"
      ],
      "text/plain": [
       "                                                Text  Country  \\\n",
       "0           الفار العور يشوف فقط كيسي ومايشوف ماتويد     Iraq   \n",
       "1                                ي دينيييي ربنا يستر    Egypt   \n",
       "2  أساساً نسبكم قذر ونجس بلاش تتفاخروا بنجاستكم ي...     Iraq   \n",
       "3  ليْسَت كُل المَشَاعِرِ تَحْتَاجُ إلى حَبِيب بَ...  Morocco   \n",
       "4                              لأ ني حاضرها هذي لايف    Libya   \n",
       "\n",
       "             Province  \n",
       "0            Al-Anbar  \n",
       "1          Alexandria  \n",
       "2              Maysan  \n",
       "3            Oriental  \n",
       "4  Al-Jabal-al-Akhdar  "
      ]
     },
     "execution_count": 23,
     "metadata": {},
     "output_type": "execute_result"
    }
   ],
   "source": [
    "data_2020.head()"
   ]
  },
  {
   "cell_type": "code",
   "execution_count": 24,
   "metadata": {},
   "outputs": [
    {
     "data": {
      "text/plain": [
       "54"
      ]
     },
     "execution_count": 24,
     "metadata": {},
     "output_type": "execute_result"
    }
   ],
   "source": [
    "data_2020.duplicated().sum()"
   ]
  },
  {
   "cell_type": "markdown",
   "metadata": {},
   "source": [
    "there apppear to be a duplicated records"
   ]
  },
  {
   "cell_type": "code",
   "execution_count": 25,
   "metadata": {},
   "outputs": [],
   "source": [
    "data_2020 = data_2020.drop_duplicates()"
   ]
  },
  {
   "cell_type": "code",
   "execution_count": 26,
   "metadata": {},
   "outputs": [
    {
     "data": {
      "text/plain": [
       "'أساساً نسبكم قذر ونجس بلاش تتفاخروا بنجاستكم يا وهابيهhttps://twitter.com/alarabiya_brk/status/868610706463182849\\xa0…'"
      ]
     },
     "execution_count": 26,
     "metadata": {},
     "output_type": "execute_result"
    }
   ],
   "source": [
    "data_2020.iloc[2][\"Text\"]"
   ]
  },
  {
   "cell_type": "markdown",
   "metadata": {},
   "source": [
    "there appears to be english characters in the dataset, we don't need them"
   ]
  },
  {
   "cell_type": "code",
   "execution_count": 27,
   "metadata": {},
   "outputs": [],
   "source": [
    "import string"
   ]
  },
  {
   "cell_type": "code",
   "execution_count": 28,
   "metadata": {},
   "outputs": [],
   "source": [
    "def remove_links(text):\n",
    "    return re.sub(r'https?:\\/\\/(.[\\r\\n]*)*', '', text, flags=re.MULTILINE)\n",
    "\n",
    "def remove_punctuation(text):\n",
    "    punc = string.punctuation\n",
    "    return text.translate(str.maketrans('','',punc))\n",
    "\n",
    "def remove_english(text):\n",
    "    new_text = \"\"\n",
    "    for i in text:\n",
    "        if not((i >= 'a' and i <= 'z') or (i >= 'A' and i <= 'Z') or (i >= '0' and i <= '9') or i == '\\\\'):\n",
    "            new_text += i\n",
    "    \n",
    "    return new_text"
   ]
  },
  {
   "cell_type": "code",
   "execution_count": 30,
   "metadata": {},
   "outputs": [
    {
     "data": {
      "text/plain": [
       "'أساساً نسبكم قذر ونجس بلاش تتفاخروا بنجاستكم يا وهابيه'"
      ]
     },
     "execution_count": 30,
     "metadata": {},
     "output_type": "execute_result"
    }
   ],
   "source": [
    "data_2020[\"Text\"] = data_2020[\"Text\"].apply(remove_links)\n",
    "data_2020[\"Text\"] = data_2020[\"Text\"].apply(remove_punctuation)\n",
    "data_2020[\"Text\"] = data_2020[\"Text\"].apply(remove_english)\n",
    "\n",
    "data_2020.iloc[2][\"Text\"]"
   ]
  },
  {
   "cell_type": "markdown",
   "metadata": {},
   "source": [
    "We need to make sure that every text is an arabic string\n",
    "\n",
    "I used `pyarabic` for this you can check it out in it's link in `arabicFunction.py` file"
   ]
  },
  {
   "cell_type": "code",
   "execution_count": 52,
   "metadata": {},
   "outputs": [],
   "source": [
    "import arabicFunctions\n",
    "from arabicFunctions import isArabic"
   ]
  },
  {
   "cell_type": "code",
   "execution_count": 40,
   "metadata": {},
   "outputs": [
    {
     "data": {
      "text/plain": [
       "1751"
      ]
     },
     "execution_count": 40,
     "metadata": {},
     "output_type": "execute_result"
    }
   ],
   "source": [
    "len(data_2020) - data_2020[\"Text\"].apply(isArabic).sum()"
   ]
  },
  {
   "cell_type": "markdown",
   "metadata": {},
   "source": [
    "seems like there still texts with non-arabic text\n",
    "\n",
    "first we need to observe them"
   ]
  },
  {
   "cell_type": "code",
   "execution_count": 49,
   "metadata": {},
   "outputs": [
    {
     "name": "stdout",
     "output_type": "stream",
     "text": [
      "{'\\u06dd', '\\ue030', '̶', '¶', 'ﺴ', 'ﻪ', '☉', '↓', '←', 'ﮊ', '리', 'ஜ', '➍', 'ﻮ', 'ڴ', '\\ue681', '\\U000fe04e', 'ڛ', '\\ue032', '➎', '☚', 'ﺟ', 'ﺗ', 'ˆ', 'ﻦ', 'ﻟ', '\\U000fe334', '\\U000fe329', 'ۦ', '진', 'İ', '★', 'ﻭ', 'ℓ', '\\U000fe800', '\\u2069', 'ﮭ', 'ڱ', 'ډ', 'ﻤ', '⚘', '̩', '”', 'ݣ', '⸀', '\\U000fe326', 'ु', 'ﻡ', 'ﺡ', '➌', 'ﻙ', '\\U000feb12', '▬', '\\ue022', '༺', 'ﻝ', 'ﻄ', '우', 'ک', '•', 'ڊ', 'ﺘ', 'ٖ', '❀', '【', 'ﯼ', '‿', 'ﻓ', '۞', 'ڤ', '이', 'ﻥ', 'â', 'ﺇ', 'ﺮ', 'ú', '\\U000fe4cc', 'ﺁ', '\\U000feba0', 'ﻱ', 'ﺶ', '\\U000fe33e', 'ﭑ', '\\U000feb9e', '森', 'ﻹ', 'ﻑ', 'ﻂ', 'چ', '٬', '\\u2067', 'ﺌ', '⇣', '❃', '\\ue21a', 'ﺊ', 'ﷺ', 'ﻗ', '’', 'ﻘ', 'ﺃ', 'ღ', 'ۂ', 'ﺔ', '๛', 'ﯾ', '\\U000fe33d', '】', 'ﺜ', 'ﺲ', '♡', '┅', '↝', 'ڳ', 'ﺍ', 'ヅ', 'ﻶ', '☼', 'ڨ', '고', '\\U000fe339', 'ٓ', '\\U000feb0d', '\\u200d', 'ﺦ', '﮼', '林', '\\U000fe1dd', 'ﻏ', 'ﮔ', '͡', 'ﻲ', '﹏', 'ﻜ', 'ﷻ', 'ٶ', 'ﻐ', 'ۃ', 'ɔ', '˘', '\\U000feb18', '\\U000fe357', '⁽', 'ɑ', 'ﺖ', 'ە', 'ۉ', '̸', '‘', '⌗', '\\u200f', '\\U000fe327', '\\U000feb9f', '\\U000feb0f', 'ۅ', '\\ue310', 'ھ', 'ﮬ', 'ﻕ', 'ɦ', 'ﺱ', '\\U000fe343', '《', 'ﯽ', 'ڝ', '➊', '﴾', 'ﺚ', 'ﻩ', '는', '❦', 'ﻒ', 'ﺧ', 'ﺬ', 'ﭼ', 'ٹ', 'ژ', 'ﻛ', '–', 'ﺺ', 'ڕ', 'ٲ', '\\ue404', 'ٳ', '٫', '₎', 'ﮐ', 'ﻊ', '“', '»', '☻', '☆', '》', '木', '\\U000fe03e', '수', '\\U000fe333', '┉', 'ﺩ', 'ۿ', 'ﺄ', 'ﻃ', '\\ue424', 'ë', 'ý', '●', 'ﺋ', 'ہ', 'ﺾ', '̵', '\\ue328', 'á', '℅', 'ﻌ', 'ﻔ', 'ﻣ', 'ﻠ', '﴿', 'ۡ', '«', '\\ue106', 'ڪ', 'ﻧ', '\\ue403', '›', '✬', 'ོ', '\\u200e', '☜', 'ۗ', 'ৡ', 'ﻰ', '\\U000feb97', '가', 'ﺳ', '۩', 'ﻀ', 'ø', 'ﮧ', 'ﻳ', '﷽', '\\U000fe041', '\\ue6ae', 'ۓ', '¥', 'پ', 'ﻬ', 'ﺵ', '✵', 'ڒ', 'ﺆ', 'ﺨ', '의', 'ı', 'ᴗ', 'є', '\\U000fe040', '۽', '\\U000fe358', 'ç', '̼', '➋', '♬', 'ﻚ', '┈', 'ş', 'ﻇ', 'ﺂ', 'ﮯ', '٪', 'گ', '\\ue32e', '̷', '̲', '알', 'ﻯ', 'ڵ', 'ﻨ', 'ﻫ', 'ﺏ', '\\U000feb14', 'ﺎ', '\\ue22e', 'ﮏ', '‹', 'ۆ', 'ﺐ', 'ﻼ', '°', '̈', 'ﺤ', 'é', 'ﺸ', 'ﻴ', '©', '·', '✦', 'ﷲ', '\\U000fe347', '\\U000feb96', 'ﺒ', '◕', '♫', 'ﺪ', '♤', 'ی', '̮', '۔', 'ے', '˓', 'ﺫ', 'ٺ', '석', 'ﻢ', 'ﺕ', 'ۖ', '﷼', 'ﻋ', 'ٱ', 'ρ', '¡', '✿', 'ﯙ', '×', 'ğ', '\\u2066', 'ː', '✤', '༻', 'ﺼ', 'ﺣ', 'ﺀ', 'ﻉ', 'ﺓ', 'ۈ', 'à', 'ﻞ', 'û', 'ێ', '✺', '・', 'ט', 'ㅤ', 'ﺑ', '\\ue304', 'ﺿ', 'ﺝ', '♪', 'ﺛ', 'ۚ', 'ۙ', 'ɨ', 'ﻖ', 'É', 'ڭ', 'ﺯ', '\\U000fe016', 'ﻈ', 'è', '아', '❁', '⌣', 'ﺰ', 'ڈ', '™', 'ƒ', '\\U000fec2f', '\\U000fe335', '\\ue6cf', '\\U000fe03d', '✪', 'ں', 'ﷶ', 'ﺷ', '⠀', '\\u200c', '…', '❥', 'ê', 'ㅠ', 'ﺙ', 'ﺠ', 'ﺈ', '\\ue201', 'ﻆ', 'α', '�', '—', 'ٰ', 'ﺻ', '\\U000feb99', 'ﺭ'}\n"
     ]
    }
   ],
   "source": [
    "nonArabic = pd.Series([i for i in data_2020[\"Text\"] if not isArabic(i)])\n",
    "\n",
    "lst = set()\n",
    "\n",
    "for i in nonArabic:\n",
    "    for j in i:\n",
    "        if not isArabic(j):\n",
    "            lst.add(j)\n",
    "\n",
    "print(lst)"
   ]
  },
  {
   "cell_type": "markdown",
   "metadata": {},
   "source": [
    "some charcters are considered as arabic so i can just choose what to use and embedd them in the function and the rest to remove\n",
    "\n",
    "had to collect them all and stored in `arabicFunctions.py`\n",
    "\n",
    "we can modify one of the last functions so it removes any unwanted occurances"
   ]
  },
  {
   "cell_type": "code",
   "execution_count": 59,
   "metadata": {},
   "outputs": [],
   "source": [
    "specialArabic = {\n",
    "    '٫', '٬', 'ٰ', 'ٱ', 'ٲ', 'ٳ', 'ٶ', 'ٹ', 'ٺ', 'پ', 'چ', 'ڈ', 'ډ', 'ڊ', 'ڒ', 'ڕ', 'ژ', 'ڛ', 'ڝ', 'ڤ', 'ڨ', 'ک', 'ڪ', 'ڭ', 'گ', 'ڱ', 'ڳ', 'ڴ',\n",
    "    'ڵ', 'ں', 'ھ', 'ہ', 'ۂ', 'ۃ', 'ۅ', 'ۆ', 'ۈ', 'ۉ', 'ی', 'ێ', 'ے', 'ۓ', '۔', 'ە', 'ۖ', 'ۗ', 'ۙ', 'ۚ', '۞', 'ۡ', 'ۦ', '۩', '۽', 'ۿ', 'ݣ', 'ﭑ', 'ﭼ', 'ﮊ',\n",
    "    'ﮏ', 'ﮐ', 'ﮔ', 'ﮧ', 'ﮬ', 'ﮭ', 'ﮯ', '﮼', 'ﯙ', 'ﯼ', 'ﯽ', 'ﯾ', '﴾', '﴿', 'ﷲ', 'ﷶ', 'ﷺ', 'ﷻ', '﷼', '﷽', '﹏', 'ﺀ', 'ﺁ', 'ﺂ', 'ﺃ', 'ﺄ', 'ﺆ', 'ﺇ',\n",
    "    'ﺈ', 'ﺊ', 'ﺋ', 'ﺌ', 'ﺍ', 'ﺎ', 'ﺏ', 'ﺐ', 'ﺑ', 'ﺒ', 'ﺓ', 'ﺔ', 'ﺕ', 'ﺖ', 'ﺗ', 'ﺘ', 'ﺙ', 'ﺚ', 'ﺛ', 'ﺜ', 'ﺝ', 'ﺟ', 'ﺠ', 'ﺡ','ﺣ', 'ﺤ', 'ﺦ', 'ﺧ', 'ﺨ',\n",
    "    'ﺩ', 'ﺪ', 'ﺫ', 'ﺬ', 'ﺭ', 'ﺮ', 'ﺯ', 'ﺰ', 'ﺱ', 'ﺲ', 'ﺳ', 'ﺴ', 'ﺵ', 'ﺶ', 'ﺷ', 'ﺸ', 'ﺺ', 'ﺻ', 'ﺼ', 'ﺾ', 'ﺿ', 'ﻀ', 'ﻂ', 'ﻃ', 'ﻄ', 'ﻆ', 'ﻇ', 'ﻈ',\n",
    "    'ﻉ', 'ﻊ', 'ﻋ', 'ﻌ', 'ﻏ', 'ﻐ', 'ﻑ', 'ﻒ', 'ﻓ', 'ﻔ', 'ﻕ', 'ﻖ', 'ﻗ', 'ﻘ', 'ﻙ', 'ﻚ', 'ﻛ', 'ﻜ', 'ﻝ', 'ﻞ', 'ﻟ', 'ﻠ', 'ﻡ', 'ﻢ', 'ﻣ', 'ﻤ', 'ﻥ', 'ﻦ',\n",
    "    'ﻧ', 'ﻨ', 'ﻩ', 'ﻪ', 'ﻫ', 'ﻬ', 'ﻭ', 'ﻮ', 'ﻯ', 'ﻰ', 'ﻱ', 'ﻲ', 'ﻳ', 'ﻴ', 'ﻶ', 'ﻹ','ﻼ'}"
   ]
  },
  {
   "cell_type": "code",
   "execution_count": 60,
   "metadata": {},
   "outputs": [],
   "source": [
    "def remove_english(text):\n",
    "    new_text = \"\"\n",
    "    for i in text:\n",
    "        if not((i >= 'a' and i <= 'z') or (i >= 'A' and i <= 'Z') or (i >= '0' and i <= '9') or  (i in specialArabic)):\n",
    "            new_text += i\n",
    "    \n",
    "    return new_text"
   ]
  },
  {
   "cell_type": "code",
   "execution_count": 62,
   "metadata": {},
   "outputs": [],
   "source": [
    "data_2020[\"Text\"] = data_2020[\"Text\"].apply(remove_english)"
   ]
  },
  {
   "cell_type": "markdown",
   "metadata": {},
   "source": [
    "now data 2020 is fully cleaned!"
   ]
  }
 ],
 "metadata": {
  "kernelspec": {
   "display_name": "Python 3",
   "language": "python",
   "name": "python3"
  },
  "language_info": {
   "codemirror_mode": {
    "name": "ipython",
    "version": 3
   },
   "file_extension": ".py",
   "mimetype": "text/x-python",
   "name": "python",
   "nbconvert_exporter": "python",
   "pygments_lexer": "ipython3",
   "version": "3.11.8"
  }
 },
 "nbformat": 4,
 "nbformat_minor": 2
}
